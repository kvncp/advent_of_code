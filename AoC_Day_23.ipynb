{
  "nbformat": 4,
  "nbformat_minor": 0,
  "metadata": {
    "colab": {
      "name": "AoC Day 23.ipynb",
      "provenance": [],
      "authorship_tag": "ABX9TyM+nVuemggk1HXcCrYCUyee",
      "include_colab_link": true
    },
    "kernelspec": {
      "name": "python3",
      "display_name": "Python 3"
    }
  },
  "cells": [
    {
      "cell_type": "markdown",
      "metadata": {
        "id": "view-in-github",
        "colab_type": "text"
      },
      "source": [
        "<a href=\"https://colab.research.google.com/github/kvncp/advent_of_code/blob/main/AoC_Day_23.ipynb\" target=\"_parent\"><img src=\"https://colab.research.google.com/assets/colab-badge.svg\" alt=\"Open In Colab\"/></a>"
      ]
    },
    {
      "cell_type": "code",
      "metadata": {
        "id": "yFHMZN8W-rf6"
      },
      "source": [
        "def do_move_v1(cups):\n",
        "  current_cup = cups[0]\n",
        "  pick_up = cups[1:4]\n",
        "  destination_cup = current_cup - 1\n",
        "  while True:\n",
        "    if destination_cup < 1:\n",
        "      destination_cup = 9\n",
        "    if destination_cup in pick_up:\n",
        "      destination_cup -= 1\n",
        "    else:\n",
        "      break\n",
        "\n",
        "  destination_index = cups.index(destination_cup)\n",
        "\n",
        "  return cups[4:destination_index+1] + pick_up + cups[destination_index+1:] + cups[0:1]\n",
        "\n",
        "def do_move(cups, current_cup):\n",
        "  pick_up = [cups[current_cup]]\n",
        "  for _ in range(2):\n",
        "    pick_up.append(cups[pick_up[-1]])\n",
        "\n",
        "  destination_cup = current_cup - 1\n",
        "  new_current_cup = cups[pick_up[-1]]\n",
        "  while True:\n",
        "    if destination_cup < 1:\n",
        "      destination_cup = 1_000_000\n",
        "    if destination_cup in pick_up:\n",
        "      destination_cup -= 1\n",
        "    else:\n",
        "      break\n",
        "\n",
        "  # Now update the hash map with the right pointers:\n",
        "  destination_next = cups[destination_cup]\n",
        "  cups[destination_cup] = pick_up[0]\n",
        "  cups[pick_up[-1]] = destination_next\n",
        "  cups[current_cup] = new_current_cup\n",
        "\n",
        "  return new_current_cup\n",
        "\n",
        "def print_cups(cups, start=1, length=None):\n",
        "  if length is None:\n",
        "    length = len(cups)\n",
        "  \n",
        "  c = [cups[start]]\n",
        "  for _ in range(length-1):\n",
        "    c.append(cups[c[-1]])\n",
        "\n",
        "  print(' '.join(str(x) for x in c))\n",
        "  return c"
      ],
      "execution_count": 63,
      "outputs": []
    },
    {
      "cell_type": "code",
      "metadata": {
        "colab": {
          "base_uri": "https://localhost:8080/"
        },
        "id": "lzQw8MicPvCj",
        "outputId": "3bc73f83-fc45-46ac-d26c-034c68d3aa97"
      },
      "source": [
        "# Run Part 1\n",
        "start = [int(x) for x in '784235916']\n",
        "for _ in range(100):\n",
        "  start = do_move_v1(start)\n",
        "  # print(start)\n",
        "\n",
        "while start[0] != 1:\n",
        "  start = start[1:] + start[0:1]\n",
        "\n",
        "print(''.join(str(x) for x in start[1:]))"
      ],
      "execution_count": 66,
      "outputs": [
        {
          "output_type": "stream",
          "text": [
            "53248976\n"
          ],
          "name": "stdout"
        }
      ]
    },
    {
      "cell_type": "code",
      "metadata": {
        "colab": {
          "base_uri": "https://localhost:8080/"
        },
        "id": "PeScHrYZIgej",
        "outputId": "98cbc084-7dd7-4f9e-f0ba-d64a4e040f55"
      },
      "source": [
        "# Run Part 2\n",
        "import itertools\n",
        "cups = {}\n",
        "\n",
        "start = [int(x) for x in '389125467']\n",
        "start = [int(x) for x in '784235916']\n",
        "start += [x for x in range(10, 1_000_001)]\n",
        "\n",
        "for i in range(len(start) - 1):\n",
        "  cups[start[i]] = start[i+1]\n",
        "cups[start[-1]] = start[0]\n",
        "\n",
        "current_cup = start[0]\n",
        "for _ in range(10_000_000):\n",
        "  current_cup = do_move(cups, current_cup)\n",
        "  # print(current_cup)\n",
        "  # print_cups(cups, current_cup)\n",
        "\n",
        "print(cups[1])\n",
        "print(cups[cups[1]])\n",
        "print(cups[1]*cups[cups[1]])"
      ],
      "execution_count": 64,
      "outputs": [
        {
          "output_type": "stream",
          "text": [
            "635429\n",
            "659113\n",
            "418819514477\n"
          ],
          "name": "stdout"
        }
      ]
    }
  ]
}