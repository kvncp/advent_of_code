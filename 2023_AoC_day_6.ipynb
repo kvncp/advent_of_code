{
  "nbformat": 4,
  "nbformat_minor": 0,
  "metadata": {
    "colab": {
      "provenance": [],
      "authorship_tag": "ABX9TyMUjUUONWlerzAERki+iZKf",
      "include_colab_link": true
    },
    "kernelspec": {
      "name": "python3",
      "display_name": "Python 3"
    },
    "language_info": {
      "name": "python"
    }
  },
  "cells": [
    {
      "cell_type": "markdown",
      "metadata": {
        "id": "view-in-github",
        "colab_type": "text"
      },
      "source": [
        "<a href=\"https://colab.research.google.com/github/kvncp/advent_of_code/blob/main/2023_AoC_day_6.ipynb\" target=\"_parent\"><img src=\"https://colab.research.google.com/assets/colab-badge.svg\" alt=\"Open In Colab\"/></a>"
      ]
    },
    {
      "cell_type": "code",
      "source": [
        "p1 = 1\n",
        "p2 = 0\n",
        "\n",
        "times = [int(t) for t in data[0].split(\":\")[-1].split()]\n",
        "dists = [int(t) for t in data[1].split(\":\")[-1].split()]\n",
        "def calc_distances(ts):\n",
        "  ds = []\n",
        "  for i in range(ts):\n",
        "    t_go = ts - i\n",
        "    ds.append(t_go*i)\n",
        "\n",
        "  return ds\n",
        "\n",
        "for t, d in zip(times, dists):\n",
        "  c = 0\n",
        "  for ds in calc_distances(t):\n",
        "    if ds > d:\n",
        "      c += 1\n",
        "\n",
        "  p1 *= c\n",
        "\n",
        "print(p1, p2)"
      ],
      "metadata": {
        "colab": {
          "base_uri": "https://localhost:8080/"
        },
        "id": "1cVUxHK2egIn",
        "outputId": "8085f627-843a-498c-8f6f-46cb639eb781"
      },
      "execution_count": 12,
      "outputs": [
        {
          "output_type": "stream",
          "name": "stdout",
          "text": [
            "275724 0\n"
          ]
        }
      ]
    },
    {
      "cell_type": "code",
      "source": [
        "c = 0\n",
        "for ds in calc_distances(59688274):\n",
        "  if ds > 543102016641022:\n",
        "    c += 1\n"
      ],
      "metadata": {
        "id": "XTOTir5Nhi89"
      },
      "execution_count": 13,
      "outputs": []
    },
    {
      "cell_type": "code",
      "source": [
        "print(c)"
      ],
      "metadata": {
        "colab": {
          "base_uri": "https://localhost:8080/"
        },
        "id": "X9TAxUbCh3aq",
        "outputId": "a620f043-01f8-4699-8950-fc48bc642e45"
      },
      "execution_count": 14,
      "outputs": [
        {
          "output_type": "stream",
          "name": "stdout",
          "text": [
            "37286485\n"
          ]
        }
      ]
    },
    {
      "cell_type": "code",
      "source": [
        "data = \"\"\"Time:      7  15   30\n",
        "Distance:  9  40  200\"\"\".splitlines()"
      ],
      "metadata": {
        "id": "bj13qy87eh2N"
      },
      "execution_count": 5,
      "outputs": []
    },
    {
      "cell_type": "code",
      "source": [
        "data = \"\"\"Time:        59688274\n",
        "Distance:   543102016641022\"\"\".splitlines()"
      ],
      "metadata": {
        "id": "O-BgaGY9eh6i"
      },
      "execution_count": 11,
      "outputs": []
    },
    {
      "cell_type": "code",
      "execution_count": 1,
      "metadata": {
        "id": "LkWHyFnQeb7B"
      },
      "outputs": [],
      "source": [
        "from collections import defaultdict as dd\n",
        "import math"
      ]
    }
  ]
}