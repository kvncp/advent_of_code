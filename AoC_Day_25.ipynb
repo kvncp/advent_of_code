{
  "nbformat": 4,
  "nbformat_minor": 0,
  "metadata": {
    "colab": {
      "name": "AoC Day 25.ipynb",
      "provenance": [],
      "authorship_tag": "ABX9TyP08ePsYeuv8umaVLYHuOqR",
      "include_colab_link": true
    },
    "kernelspec": {
      "name": "python3",
      "display_name": "Python 3"
    }
  },
  "cells": [
    {
      "cell_type": "markdown",
      "metadata": {
        "id": "view-in-github",
        "colab_type": "text"
      },
      "source": [
        "<a href=\"https://colab.research.google.com/github/kvncp/advent_of_code/blob/main/AoC_Day_25.ipynb\" target=\"_parent\"><img src=\"https://colab.research.google.com/assets/colab-badge.svg\" alt=\"Open In Colab\"/></a>"
      ]
    },
    {
      "cell_type": "code",
      "metadata": {
        "colab": {
          "base_uri": "https://localhost:8080/"
        },
        "id": "lqJtWk501Lig",
        "outputId": "cef2938f-2c0a-41a9-d9f6-9300e3f2d02d"
      },
      "source": [
        "cpk = 10604480\n",
        "dpk = 4126658\n",
        "\n",
        "modulus = 20201227\n",
        "subject = 7\n",
        "\n",
        "# Find door loop size\n",
        "v = 1\n",
        "door_loops = 0\n",
        "while v != dpk:\n",
        "  v = (v * subject) % modulus\n",
        "  door_loops += 1\n",
        "\n",
        "print(door_loops, v)\n",
        "\n",
        "# Find card loop size\n",
        "v = 1\n",
        "card_loops = 0\n",
        "while v != cpk:\n",
        "  v = (v * subject) % modulus\n",
        "  card_loops += 1\n",
        "\n",
        "print(card_loops, v)\n",
        "\n",
        "# Encryption key\n",
        "v = 1\n",
        "for _ in range(card_loops):\n",
        "  v = (v*dpk) % modulus\n",
        "\n",
        "print(v)\n",
        "\n",
        "v = 1\n",
        "for _ in range(door_loops):\n",
        "  v = (v*cpk) % modulus\n",
        "\n",
        "print(v)\n"
      ],
      "execution_count": 4,
      "outputs": [
        {
          "output_type": "stream",
          "text": [
            "9709101 4126658\n",
            "1568743 10604480\n",
            "4968512\n",
            "4968512\n"
          ],
          "name": "stdout"
        }
      ]
    }
  ]
}