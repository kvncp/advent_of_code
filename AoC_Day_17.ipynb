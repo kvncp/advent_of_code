{
  "nbformat": 4,
  "nbformat_minor": 0,
  "metadata": {
    "colab": {
      "name": "AoC Day 17.ipynb",
      "provenance": [],
      "collapsed_sections": [],
      "authorship_tag": "ABX9TyNbonsaS4b4s/C4m/oF9Goi",
      "include_colab_link": true
    },
    "kernelspec": {
      "name": "python3",
      "display_name": "Python 3"
    }
  },
  "cells": [
    {
      "cell_type": "markdown",
      "metadata": {
        "id": "view-in-github",
        "colab_type": "text"
      },
      "source": [
        "<a href=\"https://colab.research.google.com/github/kvncp/advent_of_code/blob/main/AoC_Day_17.ipynb\" target=\"_parent\"><img src=\"https://colab.research.google.com/assets/colab-badge.svg\" alt=\"Open In Colab\"/></a>"
      ]
    },
    {
      "cell_type": "code",
      "metadata": {
        "id": "Fm9XDbUEwxfY"
      },
      "source": [
        "# Part 1, 3 dimensional space\n",
        "import itertools\n",
        "\n",
        "def parse_input(grid):\n",
        "  space = set()\n",
        "  for i, row in enumerate(grid.split('\\n')):\n",
        "    for j, column in enumerate(row):\n",
        "      if column == '#':\n",
        "        space.add((i, j, 0))\n",
        "\n",
        "  return space\n",
        "\n",
        "\n",
        "def get_neighbors(x, y, z):\n",
        "  for i, j, k in itertools.product([-1, 0, 1], repeat=3):\n",
        "    if (i, j, k) == (0, 0, 0):\n",
        "      continue\n",
        "    yield x+i, y+j, z+k\n",
        "\n",
        "\n",
        "def process_cubes(space, active_cubes, needed_active):\n",
        "  new_space = set()\n",
        "  for cube in space:\n",
        "    active_neighbors = sum(int(c in active_cubes) for c in get_neighbors(*cube))\n",
        "    if active_neighbors in needed_active:\n",
        "      new_space.add(cube)\n",
        "\n",
        "  return new_space\n",
        "\n",
        "\n",
        "def candidate_inactive_cubes(space):\n",
        "  candidates = set()\n",
        "  for cube in space:\n",
        "    candidates |= set((n for n in get_neighbors(*cube)))\n",
        "\n",
        "  return candidates\n",
        "\n",
        "\n",
        "def process_cycle(space):\n",
        "  new_space = process_cubes(space, space, [2, 3])\n",
        "  new_space |= process_cubes(candidate_inactive_cubes(space), space, [3])\n",
        "\n",
        "  return new_space"
      ],
      "execution_count": 24,
      "outputs": []
    },
    {
      "cell_type": "code",
      "metadata": {
        "id": "jLB_MISL8mFI"
      },
      "source": [
        "# Part 2, 4 dimensional space\n",
        "import itertools\n",
        "\n",
        "def parse_input(grid):\n",
        "  space = set()\n",
        "  for i, row in enumerate(grid.split('\\n')):\n",
        "    for j, column in enumerate(row):\n",
        "      if column == '#':\n",
        "        space.add((i, j, 0, 0))\n",
        "\n",
        "  return space\n",
        "\n",
        "\n",
        "def get_neighbors(x):\n",
        "  for v in itertools.product([-1, 0, 1], repeat=4):\n",
        "    if v == (0, 0, 0, 0):\n",
        "      continue\n",
        "    yield x[0]+v[0], x[1]+v[1], x[2]+v[2], x[3]+v[3]\n",
        "\n",
        "\n",
        "def process_cubes(space, active_cubes, needed_active):\n",
        "  new_space = set()\n",
        "  for cube in space:\n",
        "    active_neighbors = sum(int(c in active_cubes) for c in get_neighbors(cube))\n",
        "    if active_neighbors in needed_active:\n",
        "      new_space.add(cube)\n",
        "\n",
        "  return new_space\n",
        "\n",
        "\n",
        "def candidate_inactive_cubes(space):\n",
        "  candidates = set()\n",
        "  for cube in space:\n",
        "    candidates |= set((n for n in get_neighbors(cube)))\n",
        "\n",
        "  return candidates\n",
        "\n",
        "\n",
        "def process_cycle(space):\n",
        "  new_space = process_cubes(space, space, [2, 3])\n",
        "  new_space |= process_cubes(candidate_inactive_cubes(space), space, [3])\n",
        "\n",
        "  return new_space"
      ],
      "execution_count": 35,
      "outputs": []
    },
    {
      "cell_type": "code",
      "metadata": {
        "colab": {
          "base_uri": "https://localhost:8080/"
        },
        "id": "FeWLpmDHx0at",
        "outputId": "ad8487d9-9208-459b-a4d6-ba337d04d1db"
      },
      "source": [
        "space = parse_input(start_grid)\n",
        "\n",
        "for _ in range(6):\n",
        "  space = process_cycle(space)\n",
        "\n",
        "print(len(space))"
      ],
      "execution_count": 38,
      "outputs": [
        {
          "output_type": "stream",
          "text": [
            "2332\n"
          ],
          "name": "stdout"
        }
      ]
    },
    {
      "cell_type": "code",
      "metadata": {
        "id": "2WaSHq8n3FXz"
      },
      "source": [
        "start_grid = \"\"\".#.\n",
        "..#\n",
        "###\"\"\""
      ],
      "execution_count": 32,
      "outputs": []
    },
    {
      "cell_type": "code",
      "metadata": {
        "id": "4U7dpjAuvuWd"
      },
      "source": [
        "start_grid = \"\"\"#.#.##.#\n",
        "#.####.#\n",
        "...##...\n",
        "#####.##\n",
        "#....###\n",
        "##..##..\n",
        "#..####.\n",
        "#...#.#.\"\"\""
      ],
      "execution_count": 37,
      "outputs": []
    }
  ]
}