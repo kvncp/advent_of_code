{
  "nbformat": 4,
  "nbformat_minor": 0,
  "metadata": {
    "colab": {
      "name": "Untitled8.ipynb",
      "provenance": [],
      "collapsed_sections": [],
      "authorship_tag": "ABX9TyOQZspaLIdbzfIzXTZg1s9N",
      "include_colab_link": true
    },
    "kernelspec": {
      "name": "python3",
      "display_name": "Python 3"
    }
  },
  "cells": [
    {
      "cell_type": "markdown",
      "metadata": {
        "id": "view-in-github",
        "colab_type": "text"
      },
      "source": [
        "<a href=\"https://colab.research.google.com/github/kvncp/advent_of_code/blob/main/AoC%20Day%2010.ipynb\" target=\"_parent\"><img src=\"https://colab.research.google.com/assets/colab-badge.svg\" alt=\"Open In Colab\"/></a>"
      ]
    },
    {
      "cell_type": "code",
      "metadata": {
        "id": "7dD4b8Nq_3Jl"
      },
      "source": [
        "puzzle = \"\"\"54\n",
        "91\n",
        "137\n",
        "156\n",
        "31\n",
        "70\n",
        "143\n",
        "51\n",
        "50\n",
        "18\n",
        "1\n",
        "149\n",
        "129\n",
        "151\n",
        "95\n",
        "148\n",
        "41\n",
        "144\n",
        "7\n",
        "125\n",
        "155\n",
        "14\n",
        "114\n",
        "108\n",
        "57\n",
        "118\n",
        "147\n",
        "24\n",
        "25\n",
        "73\n",
        "26\n",
        "8\n",
        "115\n",
        "44\n",
        "12\n",
        "47\n",
        "106\n",
        "120\n",
        "132\n",
        "121\n",
        "35\n",
        "105\n",
        "60\n",
        "9\n",
        "6\n",
        "65\n",
        "111\n",
        "133\n",
        "38\n",
        "138\n",
        "101\n",
        "126\n",
        "39\n",
        "78\n",
        "92\n",
        "53\n",
        "119\n",
        "136\n",
        "154\n",
        "140\n",
        "52\n",
        "15\n",
        "90\n",
        "30\n",
        "40\n",
        "64\n",
        "67\n",
        "139\n",
        "76\n",
        "32\n",
        "98\n",
        "113\n",
        "80\n",
        "13\n",
        "104\n",
        "86\n",
        "27\n",
        "61\n",
        "157\n",
        "79\n",
        "122\n",
        "59\n",
        "150\n",
        "89\n",
        "158\n",
        "107\n",
        "77\n",
        "112\n",
        "5\n",
        "83\n",
        "58\n",
        "21\n",
        "2\n",
        "66\"\"\".split('\\n')"
      ],
      "execution_count": 8,
      "outputs": []
    },
    {
      "cell_type": "code",
      "metadata": {
        "colab": {
          "base_uri": "https://localhost:8080/"
        },
        "id": "28-HTz4YAMqP",
        "outputId": "9b571134-9093-4ba5-f03e-1dc591b4c2f8"
      },
      "source": [
        "test = \"\"\"28\n",
        "33\n",
        "18\n",
        "42\n",
        "31\n",
        "14\n",
        "46\n",
        "20\n",
        "48\n",
        "47\n",
        "24\n",
        "23\n",
        "49\n",
        "45\n",
        "19\n",
        "38\n",
        "39\n",
        "11\n",
        "1\n",
        "32\n",
        "25\n",
        "35\n",
        "8\n",
        "17\n",
        "7\n",
        "9\n",
        "4\n",
        "2\n",
        "34\n",
        "10\n",
        "3\"\"\".split('\\n')\n",
        "\n",
        "\n",
        "def handle_input(data):\n",
        "  data = [int(x) for x in data]\n",
        "  data += [0, max(data)+3]\n",
        "  data.sort()\n",
        "  diff = []\n",
        "  for i, j in zip(data[:-1], data[1:]):\n",
        "    diff.append(j-i)\n",
        "\n",
        "  print(diff.count(1))\n",
        "  print(diff.count(3))\n",
        "  print(diff.count(1)*diff.count(3))\n",
        "\n",
        "\n",
        "handle_input(test)"
      ],
      "execution_count": 54,
      "outputs": [
        {
          "output_type": "stream",
          "text": [
            "22\n",
            "10\n",
            "220\n"
          ],
          "name": "stdout"
        }
      ]
    },
    {
      "cell_type": "code",
      "metadata": {
        "colab": {
          "base_uri": "https://localhost:8080/"
        },
        "id": "DL6fz4U6ANk6",
        "outputId": "02e671ea-33a8-4aac-d5cf-e1c929583922"
      },
      "source": [
        "handle_input(puzzle)"
      ],
      "execution_count": 10,
      "outputs": [
        {
          "output_type": "stream",
          "text": [
            "62\n",
            "33\n",
            "2046\n"
          ],
          "name": "stdout"
        }
      ]
    },
    {
      "cell_type": "code",
      "metadata": {
        "id": "9LwxIMfqCfok"
      },
      "source": [
        "def handle_input(data):\n",
        "  data = [int(x) for x in data]\n",
        "  data += [0, max(data)+3]\n",
        "  data.sort()\n",
        "  diff = []\n",
        "  for i, j in zip(data[:-1], data[1:]):\n",
        "    diff.append(j-i)\n",
        "\n",
        "  print(diff.count(1))\n",
        "  print(diff.count(3))\n",
        "  print(diff.count(1)*diff.count(3))\n",
        "\n",
        "\n",
        "class Node(object):\n",
        "  def __init__(self, value):\n",
        "    self.value = value\n",
        "    self.children = []\n",
        "\n",
        "  def add_children(self, values):\n",
        "    self.children = [Node(x) for x in values if (x-self.value <= 3) and x > self.value]\n",
        "\n",
        "  def __repr__(self):\n",
        "    return f'Node : {self.value} --- Children: ' + ' '.join(str(n.value) for n in self.children)\n",
        "\n",
        "\n",
        "class Tree(object):\n",
        "  def __init__(self):\n",
        "    self.valid_paths = 0\n",
        "    \n",
        "  def build(self, values):\n",
        "    self.values = values\n",
        "    self.end = max(values)\n",
        "    self.top = Node(self.values[0])\n",
        "    self.add_children(self.top)\n",
        "\n",
        "  def add_children(self, node):\n",
        "    if node.value == self.end:\n",
        "      self.valid_paths += 1\n",
        "      return\n",
        "    node.add_children(self.values)\n",
        "\n",
        "    for n in node.children:\n",
        "      self.add_children(n)\n"
      ],
      "execution_count": 61,
      "outputs": []
    },
    {
      "cell_type": "code",
      "metadata": {
        "id": "kfZxuFPVF9NO"
      },
      "source": [
        "data = [int(x) for x in puzzle]\n",
        "data += [0, max(data)+3]\n",
        "data.sort()\n",
        "\n",
        "def divide_input(data):\n",
        "  diff = []\n",
        "  start = 0\n",
        "  for i, (x, y) in enumerate(zip(data[:-1], data[1:])):\n",
        "    if y-x == 3:\n",
        "      diff.append(data[start:i+1])\n",
        "      start = i+1\n",
        "\n",
        "  diff.append(data[start:])\n",
        "\n",
        "  return diff\n",
        "\n",
        "split = divide_input(data)\n",
        "  \n"
      ],
      "execution_count": 69,
      "outputs": []
    },
    {
      "cell_type": "code",
      "metadata": {
        "colab": {
          "base_uri": "https://localhost:8080/"
        },
        "id": "3MU2bva4L4l3",
        "outputId": "530074ce-e82a-40df-d243-efa70ee2739b"
      },
      "source": [
        "split"
      ],
      "execution_count": 70,
      "outputs": [
        {
          "output_type": "execute_result",
          "data": {
            "text/plain": [
              "[[0, 1, 2],\n",
              " [5, 6, 7, 8, 9],\n",
              " [12, 13, 14, 15],\n",
              " [18],\n",
              " [21],\n",
              " [24, 25, 26, 27],\n",
              " [30, 31, 32],\n",
              " [35],\n",
              " [38, 39, 40, 41],\n",
              " [44],\n",
              " [47],\n",
              " [50, 51, 52, 53, 54],\n",
              " [57, 58, 59, 60, 61],\n",
              " [64, 65, 66, 67],\n",
              " [70],\n",
              " [73],\n",
              " [76, 77, 78, 79, 80],\n",
              " [83],\n",
              " [86],\n",
              " [89, 90, 91, 92],\n",
              " [95],\n",
              " [98],\n",
              " [101],\n",
              " [104, 105, 106, 107, 108],\n",
              " [111, 112, 113, 114, 115],\n",
              " [118, 119, 120, 121, 122],\n",
              " [125, 126],\n",
              " [129],\n",
              " [132, 133],\n",
              " [136, 137, 138, 139, 140],\n",
              " [143, 144],\n",
              " [147, 148, 149, 150, 151],\n",
              " [154, 155, 156, 157, 158],\n",
              " [161]]"
            ]
          },
          "metadata": {
            "tags": []
          },
          "execution_count": 70
        }
      ]
    },
    {
      "cell_type": "code",
      "metadata": {
        "colab": {
          "base_uri": "https://localhost:8080/"
        },
        "id": "4DfVZh8jIeZb",
        "outputId": "5f50a442-a986-40d4-bf50-7022fda448aa"
      },
      "source": [
        "paths = []\n",
        "multiple = 1\n",
        "for section in split:\n",
        "  t = Tree()\n",
        "  t.build(section)\n",
        "  paths.append(t.valid_paths)\n",
        "  print(t.valid_paths)\n",
        "  multiple *= t.valid_paths"
      ],
      "execution_count": 71,
      "outputs": [
        {
          "output_type": "stream",
          "text": [
            "2\n",
            "7\n",
            "4\n",
            "1\n",
            "1\n",
            "4\n",
            "2\n",
            "1\n",
            "4\n",
            "1\n",
            "1\n",
            "7\n",
            "7\n",
            "4\n",
            "1\n",
            "1\n",
            "7\n",
            "1\n",
            "1\n",
            "4\n",
            "1\n",
            "1\n",
            "1\n",
            "7\n",
            "7\n",
            "7\n",
            "1\n",
            "1\n",
            "1\n",
            "7\n",
            "1\n",
            "7\n",
            "7\n",
            "1\n"
          ],
          "name": "stdout"
        }
      ]
    },
    {
      "cell_type": "code",
      "metadata": {
        "colab": {
          "base_uri": "https://localhost:8080/"
        },
        "id": "OfUbg9nLJcYJ",
        "outputId": "213038a9-fb69-4af7-889b-49b9ddbfc9be"
      },
      "source": [
        "print(multiple)"
      ],
      "execution_count": 72,
      "outputs": [
        {
          "output_type": "stream",
          "text": [
            "1157018619904\n"
          ],
          "name": "stdout"
        }
      ]
    }
  ]
}