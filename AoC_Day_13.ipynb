{
  "nbformat": 4,
  "nbformat_minor": 0,
  "metadata": {
    "colab": {
      "name": "AoC Day 13.ipynb",
      "provenance": [],
      "authorship_tag": "ABX9TyMLeMhBy5jNQgg14zVsbDHc",
      "include_colab_link": true
    },
    "kernelspec": {
      "name": "python3",
      "display_name": "Python 3"
    }
  },
  "cells": [
    {
      "cell_type": "markdown",
      "metadata": {
        "id": "view-in-github",
        "colab_type": "text"
      },
      "source": [
        "<a href=\"https://colab.research.google.com/github/kvncp/advent_of_code/blob/main/AoC_Day_13.ipynb\" target=\"_parent\"><img src=\"https://colab.research.google.com/assets/colab-badge.svg\" alt=\"Open In Colab\"/></a>"
      ]
    },
    {
      "cell_type": "code",
      "metadata": {
        "id": "5r42qeL7sgNq"
      },
      "source": [
        "departure = 1007125\n",
        "puzzle = '13,x,x,41,x,x,x,x,x,x,x,x,x,569,x,29,x,x,x,x,x,x,x,x,x,x,x,x,x,x,x,x,19,x,x,x,23,x,x,x,x,x,x,x,937,x,x,x,x,x,37,x,x,x,x,x,x,x,x,x,x,17'"
      ],
      "execution_count": 74,
      "outputs": []
    },
    {
      "cell_type": "code",
      "metadata": {
        "id": "T_ZD9dTysrPQ"
      },
      "source": [
        "def parse(text):\n",
        "  buses = [(int(x), i) for i, x in enumerate(text.split(',')) if x != 'x']\n",
        "  return [((bus-t)%bus, bus) for (bus, t) in buses]\n",
        "\n",
        "buses = [x for (_, x) in parse(puzzle)]"
      ],
      "execution_count": 88,
      "outputs": []
    },
    {
      "cell_type": "code",
      "metadata": {
        "colab": {
          "base_uri": "https://localhost:8080/"
        },
        "id": "blZMIUxitMzR",
        "outputId": "8d0ab1ba-b1f5-4f87-e6b3-20f13f4c0922"
      },
      "source": [
        "min_bus = 10000\n",
        "bus_id = None\n",
        "\n",
        "for bus in buses:\n",
        "  t = -(departure % bus) + bus\n",
        "  if t < min_bus:\n",
        "    min_bus = t\n",
        "    bus_id = bus\n",
        "\n",
        "print(bus_id * min_bus)"
      ],
      "execution_count": 90,
      "outputs": [
        {
          "output_type": "stream",
          "text": [
            "2845\n"
          ],
          "name": "stdout"
        }
      ]
    },
    {
      "cell_type": "code",
      "metadata": {
        "id": "OZ1TFLED9A33"
      },
      "source": [
        "# This problem can be solved using the Chinese Remainder Theorem, which I\n",
        "# discovered by searching for \"solve system of modular equations\".\n",
        "# https://en.wikipedia.org/wiki/Chinese_remainder_theorem#Search_by_sieving\n",
        "\n",
        "def seive(a_n):\n",
        "  a_n.sort(key=lambda x: x[1], reverse=True)\n",
        "  print(a_n)\n",
        "\n",
        "  a = a_n[0][0]\n",
        "  n = a_n[0][1]\n",
        "  print(a, n)\n",
        "\n",
        "  for i in range(1,len(a_n)):\n",
        "    n2 = a_n[i][1]\n",
        "    while True:\n",
        "      a += n\n",
        "      if a % n2 == a_n[i][0]:\n",
        "        break\n",
        "    n = n * n2\n",
        "    print(a, n)\n",
        "\n",
        "  return a, n"
      ],
      "execution_count": 91,
      "outputs": []
    },
    {
      "cell_type": "code",
      "metadata": {
        "colab": {
          "base_uri": "https://localhost:8080/"
        },
        "id": "fVwCtw7m4F2J",
        "outputId": "c2b6bbbb-c1d2-4bc8-e56e-f8ccbd7037da"
      },
      "source": [
        "p = parse(puzzle)\n",
        "seive(p)"
      ],
      "execution_count": 92,
      "outputs": [
        {
          "output_type": "stream",
          "text": [
            "[(893, 937), (556, 569), (38, 41), (24, 37), (14, 29), (10, 23), (6, 19), (7, 17), (0, 13)]\n",
            "893 937\n",
            "13074 533153\n",
            "5877757 21859273\n",
            "727233766 808793101\n",
            "18520681988 23454999929\n",
            "229615681349 539464998367\n",
            "6163730663386 10249834968973\n",
            "139411585260035 174247194472541\n",
            "487905974205117 2265213528143033\n"
          ],
          "name": "stdout"
        },
        {
          "output_type": "execute_result",
          "data": {
            "text/plain": [
              "(487905974205117, 2265213528143033)"
            ]
          },
          "metadata": {
            "tags": []
          },
          "execution_count": 92
        }
      ]
    }
  ]
}