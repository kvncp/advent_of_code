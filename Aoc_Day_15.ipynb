{
  "nbformat": 4,
  "nbformat_minor": 0,
  "metadata": {
    "colab": {
      "name": "Aoc Day 15.ipynb",
      "provenance": [],
      "authorship_tag": "ABX9TyPTNQe4ZqFTeq5rr1XdJP66",
      "include_colab_link": true
    },
    "kernelspec": {
      "name": "python3",
      "display_name": "Python 3"
    }
  },
  "cells": [
    {
      "cell_type": "markdown",
      "metadata": {
        "id": "view-in-github",
        "colab_type": "text"
      },
      "source": [
        "<a href=\"https://colab.research.google.com/github/kvncp/advent_of_code/blob/main/Aoc_Day_15.ipynb\" target=\"_parent\"><img src=\"https://colab.research.google.com/assets/colab-badge.svg\" alt=\"Open In Colab\"/></a>"
      ]
    },
    {
      "cell_type": "code",
      "metadata": {
        "id": "ForyxIVvInnB"
      },
      "source": [
        "start = [1,2,16,19,18,0]"
      ],
      "execution_count": 41,
      "outputs": []
    },
    {
      "cell_type": "code",
      "metadata": {
        "colab": {
          "base_uri": "https://localhost:8080/"
        },
        "id": "AFtiaQgdJjzz",
        "outputId": "ede577fe-4b43-4e1d-b42e-68ddb722d43e"
      },
      "source": [
        "spoken = {}\n",
        "\n",
        "for k in range(1, 30000001):\n",
        "  last_spoken = speak\n",
        "\n",
        "  if k < len(start):\n",
        "    speak = start[k-1]\n",
        "    spoken[speak] = k\n",
        "    continue\n",
        "  elif k == len(start):\n",
        "    speak = start[k-1]\n",
        "  else:\n",
        "    if last_spoken not in spoken:\n",
        "      speak = 0\n",
        "    else:\n",
        "      speak = k-1-spoken[last_spoken]\n",
        "  \n",
        "  spoken[last_spoken] = k-1\n",
        "  \n",
        "  # print(f'Turn {k}. Speak {speak}.')\n",
        "  # print(f'{spoken}')\n",
        "\n",
        "print(speak)"
      ],
      "execution_count": 43,
      "outputs": [
        {
          "output_type": "stream",
          "text": [
            "24065124\n"
          ],
          "name": "stdout"
        }
      ]
    },
    {
      "cell_type": "code",
      "metadata": {
        "colab": {
          "base_uri": "https://localhost:8080/"
        },
        "id": "aeVdXhxIKpNT",
        "outputId": "3a6fcc85-cb4d-41ff-bd18-d4300f31f61a"
      },
      "source": [
        ""
      ],
      "execution_count": 31,
      "outputs": [
        {
          "output_type": "execute_result",
          "data": {
            "text/plain": [
              "False"
            ]
          },
          "metadata": {
            "tags": []
          },
          "execution_count": 31
        }
      ]
    }
  ]
}