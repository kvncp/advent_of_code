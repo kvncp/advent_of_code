{
  "nbformat": 4,
  "nbformat_minor": 0,
  "metadata": {
    "colab": {
      "name": "Aoc Day 22",
      "provenance": [],
      "collapsed_sections": [],
      "authorship_tag": "ABX9TyMxmXiXykhkvMbC+OwRNkfB",
      "include_colab_link": true
    },
    "kernelspec": {
      "name": "python3",
      "display_name": "Python 3"
    }
  },
  "cells": [
    {
      "cell_type": "markdown",
      "metadata": {
        "id": "view-in-github",
        "colab_type": "text"
      },
      "source": [
        "<a href=\"https://colab.research.google.com/github/kvncp/advent_of_code/blob/main/Aoc_Day_22.ipynb\" target=\"_parent\"><img src=\"https://colab.research.google.com/assets/colab-badge.svg\" alt=\"Open In Colab\"/></a>"
      ]
    },
    {
      "cell_type": "code",
      "metadata": {
        "id": "S4ol1fFf0Pit"
      },
      "source": [
        "def parse_input(puzzle):\n",
        "  p1, p2 = puzzle.split('\\n\\n')\n",
        "  p1 = [int(x) for x in p1.split('\\n')[1:]]\n",
        "  p2 = [int(x) for x in p2.split('\\n')[1:]]\n",
        "  return p1, p2\n",
        "\n",
        "def play_game(p1, p2):\n",
        "  while len(p1) > 0 and len(p2) > 0:\n",
        "    if p1[0] > p2[0]:\n",
        "      p1 = p1[1:] + [p1[0], p2[0]]\n",
        "      p2 = p2[1:]\n",
        "    if p1[0] < p2[0]:\n",
        "      p2 = p2[1:] + [p2[0], p1[0]]\n",
        "      p1 = p1[1:]\n",
        "\n",
        "  if len(p1):\n",
        "    p = p1\n",
        "  else:\n",
        "    p = p2\n",
        "\n",
        "  total = 0\n",
        "  for i, c in enumerate(reversed(p)):\n",
        "    total += c * (i+1)\n",
        "\n",
        "  return total\n",
        "\n",
        "def play_game2(p1, p2):\n",
        "  previous = set()\n",
        "  while len(p1) > 0 and len(p2) > 0:\n",
        "    id = '-'.join(str(x) for x in p1) + '|' + '-'.join(str(x) for x in p2)\n",
        "    if id in previous:\n",
        "      p2 = []\n",
        "      break\n",
        "    else:\n",
        "      previous.add(id)\n",
        "\n",
        "    if len(p1) <= p1[0] or len(p2) <= p2[0]:\n",
        "      if p1[0] > p2[0]:\n",
        "        p1 = p1[1:] + [p1[0], p2[0]]\n",
        "        p2 = p2[1:]\n",
        "      elif p1[0] < p2[0]:\n",
        "        p2 = p2[1:] + [p2[0], p1[0]]\n",
        "        p1 = p1[1:]\n",
        "    else:\n",
        "      p1_sub, p2_sub = play_game2(p1[1:p1[0]+1], p2[1:p2[0]+1])\n",
        "      if not len(p2_sub):\n",
        "        p1 = p1[1:] + [p1[0], p2[0]]\n",
        "        p2 = p2[1:]\n",
        "      else:\n",
        "        p2 = p2[1:] + [p2[0], p1[0]]\n",
        "        p1 = p1[1:]\n",
        "\n",
        "  return p1, p2\n",
        "\n",
        "def compute_score(p1, p2):\n",
        "  if len(p1):\n",
        "    p = p1\n",
        "  else:\n",
        "    p = p2\n",
        "\n",
        "  total = 0\n",
        "  for i, c in enumerate(reversed(p)):\n",
        "    total += c * (i+1)\n",
        "\n",
        "  return total"
      ],
      "execution_count": 60,
      "outputs": []
    },
    {
      "cell_type": "code",
      "metadata": {
        "colab": {
          "base_uri": "https://localhost:8080/"
        },
        "id": "ITWMdOtt2ZL0",
        "outputId": "4b4c175d-ab23-4293-99a8-b216653a8c5d"
      },
      "source": [
        "puzzle.split('\\n\\n')"
      ],
      "execution_count": null,
      "outputs": [
        {
          "output_type": "execute_result",
          "data": {
            "text/plain": [
              "['Player 1:\\n9\\n2\\n6\\n3\\n1', 'Player 2:\\n5\\n8\\n4\\n7\\n10']"
            ]
          },
          "metadata": {
            "tags": []
          },
          "execution_count": 16
        }
      ]
    },
    {
      "cell_type": "code",
      "metadata": {
        "colab": {
          "base_uri": "https://localhost:8080/"
        },
        "id": "OTjzBH7u2AFF",
        "outputId": "ac71415b-0108-4fb0-e477-8a7e8d7e0a62"
      },
      "source": [
        "p1, p2 = parse_input(puzzle)\n",
        "p1, p2 = play_game2(p1, p2)\n",
        "compute_score(p1, p2)"
      ],
      "execution_count": 63,
      "outputs": [
        {
          "output_type": "execute_result",
          "data": {
            "text/plain": [
              "34031"
            ]
          },
          "metadata": {
            "tags": []
          },
          "execution_count": 63
        }
      ]
    },
    {
      "cell_type": "code",
      "metadata": {
        "id": "pwvn-dvt2TDa"
      },
      "source": [
        "puzzle = \"\"\"Player 1:\n",
        "48\n",
        "23\n",
        "9\n",
        "34\n",
        "37\n",
        "36\n",
        "40\n",
        "26\n",
        "49\n",
        "7\n",
        "12\n",
        "20\n",
        "6\n",
        "45\n",
        "14\n",
        "42\n",
        "18\n",
        "31\n",
        "39\n",
        "47\n",
        "44\n",
        "15\n",
        "43\n",
        "10\n",
        "35\n",
        "\n",
        "Player 2:\n",
        "13\n",
        "19\n",
        "21\n",
        "32\n",
        "27\n",
        "16\n",
        "11\n",
        "29\n",
        "41\n",
        "46\n",
        "33\n",
        "1\n",
        "30\n",
        "22\n",
        "38\n",
        "5\n",
        "17\n",
        "4\n",
        "50\n",
        "2\n",
        "3\n",
        "28\n",
        "8\n",
        "25\n",
        "24\"\"\""
      ],
      "execution_count": 62,
      "outputs": []
    },
    {
      "cell_type": "code",
      "metadata": {
        "id": "vKImNAp_8y0j"
      },
      "source": [
        "puzzle = \"\"\"Player 1:\n",
        "43\n",
        "19\n",
        "\n",
        "Player 2:\n",
        "2\n",
        "29\n",
        "14\"\"\""
      ],
      "execution_count": 56,
      "outputs": []
    },
    {
      "cell_type": "code",
      "metadata": {
        "id": "GThk_YqV0Rm7"
      },
      "source": [
        "puzzle = \"\"\"Player 1:\n",
        "9\n",
        "2\n",
        "6\n",
        "3\n",
        "1\n",
        "\n",
        "Player 2:\n",
        "5\n",
        "8\n",
        "4\n",
        "7\n",
        "10\"\"\""
      ],
      "execution_count": 58,
      "outputs": []
    }
  ]
}